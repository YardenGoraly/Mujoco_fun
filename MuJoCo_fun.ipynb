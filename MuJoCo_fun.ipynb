{
  "cells": [
    {
      "cell_type": "markdown",
      "metadata": {
        "colab_type": "text",
        "id": "view-in-github"
      },
      "source": [
        "<a href=\"https://colab.research.google.com/github/YardenGoraly/Mujoco_fun/blob/main/MuJoCo_fun.ipynb\" target=\"_parent\"><img src=\"https://colab.research.google.com/assets/colab-badge.svg\" alt=\"Open In Colab\"/></a>"
      ]
    },
    {
      "cell_type": "code",
      "execution_count": null,
      "metadata": {
        "id": "S0tyX_nnRn3r"
      },
      "outputs": [],
      "source": [
        "%pip install mujoco\n",
        "\n",
        "# Set up GPU rendering.\n",
        "# from google.colab import files\n",
        "import distutils.util\n",
        "import os\n",
        "import subprocess\n",
        "if subprocess.run('nvidia-smi').returncode:\n",
        "  raise RuntimeError(\n",
        "      'Cannot communicate with GPU. '\n",
        "      'Make sure you are using a GPU Colab runtime. '\n",
        "      'Go to the Runtime menu and select Choose runtime type.')\n",
        "\n",
        "# Add an ICD config so that glvnd can pick up the Nvidia EGL driver.\n",
        "# This is usually installed as part of an Nvidia driver package, but the Colab\n",
        "# kernel doesn't install its driver via APT, and as a result the ICD is missing.\n",
        "# (https://github.com/NVIDIA/libglvnd/blob/master/src/EGL/icd_enumeration.md)\n",
        "NVIDIA_ICD_CONFIG_PATH = '/usr/share/glvnd/egl_vendor.d/10_nvidia.json'\n",
        "if not os.path.exists(NVIDIA_ICD_CONFIG_PATH):\n",
        "  with open(NVIDIA_ICD_CONFIG_PATH, 'w') as f:\n",
        "    f.write(\"\"\"{\n",
        "    \"file_format_version\" : \"1.0.0\",\n",
        "    \"ICD\" : {\n",
        "        \"library_path\" : \"libEGL_nvidia.so.0\"\n",
        "    }\n",
        "}\n",
        "\"\"\")\n",
        "\n",
        "# Configure MuJoCo to use the EGL rendering backend (requires GPU)\n",
        "print('Setting environment variable to use GPU rendering:')\n",
        "%env MUJOCO_GL=egl\n",
        "\n",
        "# Check if installation was succesful.\n",
        "try:\n",
        "  print('Checking that the installation succeeded:')\n",
        "  import mujoco as mj\n",
        "  mj.MjModel.from_xml_string('<mujoco/>')\n",
        "except Exception as e:\n",
        "  raise e from RuntimeError(\n",
        "      'Something went wrong during installation. Check the shell output above '\n",
        "      'for more information.\\n'\n",
        "      'If using a hosted Colab runtime, make sure you enable GPU acceleration '\n",
        "      'by going to the Runtime menu and selecting \"Choose runtime type\".')\n",
        "\n",
        "print('Installation successful.')\n",
        "\n",
        "# Other imports and helper functions\n",
        "import time\n",
        "import itertools\n",
        "import numpy as np\n",
        "\n",
        "# Graphics and plotting.\n",
        "print('Installing mediapy:')\n",
        "!command -v ffmpeg >/dev/null || (apt update && apt install -y ffmpeg)\n",
        "!pip install -q mediapy\n",
        "import mediapy as media\n",
        "import matplotlib.pyplot as plt\n",
        "\n",
        "# More legible printing from numpy.\n",
        "np.set_printoptions(precision=3, suppress=True, linewidth=100)\n",
        "\n",
        "from IPython.display import clear_output\n",
        "clear_output()\n"
      ]
    },
    {
      "cell_type": "code",
      "execution_count": 4,
      "metadata": {
        "colab": {
          "base_uri": "https://localhost:8080/"
        },
        "id": "GKS0X5aWqdw6",
        "outputId": "b89ef595-cecb-4a23-d447-188d8571d766"
      },
      "outputs": [
        {
          "name": "stdout",
          "output_type": "stream",
          "text": [
            "Defaulting to user installation because normal site-packages is not writeable\n",
            "Requirement already satisfied: robot_descriptions in /home/yardengoraly/.local/lib/python3.10/site-packages (1.15.0)\n",
            "Requirement already satisfied: GitPython>=3.1.18 in /home/yardengoraly/.local/lib/python3.10/site-packages (from robot_descriptions) (3.1.43)\n",
            "Requirement already satisfied: tqdm>=4.64.0 in /home/yardengoraly/.local/lib/python3.10/site-packages (from robot_descriptions) (4.66.1)\n",
            "Requirement already satisfied: gitdb<5,>=4.0.1 in /home/yardengoraly/.local/lib/python3.10/site-packages (from GitPython>=3.1.18->robot_descriptions) (4.0.11)\n",
            "Requirement already satisfied: smmap<6,>=3.0.1 in /home/yardengoraly/.local/lib/python3.10/site-packages (from gitdb<5,>=4.0.1->GitPython>=3.1.18->robot_descriptions) (5.0.1)\n",
            "Note: you may need to restart the kernel to use updated packages.\n",
            "Defaulting to user installation because normal site-packages is not writeable\n",
            "Requirement already satisfied: dm_control in /home/yardengoraly/.local/lib/python3.10/site-packages (1.0.28)\n",
            "Requirement already satisfied: setuptools!=50.0.0 in /usr/lib/python3/dist-packages (from dm_control) (59.6.0)\n",
            "Requirement already satisfied: dm-tree!=0.1.2 in /home/yardengoraly/.local/lib/python3.10/site-packages (from dm_control) (0.1.8)\n",
            "Requirement already satisfied: glfw in /home/yardengoraly/.local/lib/python3.10/site-packages (from dm_control) (2.8.0)\n",
            "Requirement already satisfied: pyopengl>=3.1.4 in /home/yardengoraly/.local/lib/python3.10/site-packages (from dm_control) (3.1.9)\n",
            "Requirement already satisfied: tqdm in /home/yardengoraly/.local/lib/python3.10/site-packages (from dm_control) (4.66.1)\n",
            "Requirement already satisfied: labmaze in /home/yardengoraly/.local/lib/python3.10/site-packages (from dm_control) (1.0.6)\n",
            "Requirement already satisfied: mujoco>=3.2.7 in /home/yardengoraly/.local/lib/python3.10/site-packages (from dm_control) (3.3.0)\n",
            "Requirement already satisfied: numpy>=1.9.0 in /usr/lib/python3/dist-packages (from dm_control) (1.21.5)\n",
            "Requirement already satisfied: lxml in /usr/lib/python3/dist-packages (from dm_control) (4.8.0)\n",
            "Requirement already satisfied: protobuf>=3.19.4 in /home/yardengoraly/.local/lib/python3.10/site-packages (from dm_control) (5.27.3)\n",
            "Requirement already satisfied: absl-py>=0.7.0 in /home/yardengoraly/.local/lib/python3.10/site-packages (from dm_control) (2.1.0)\n",
            "Requirement already satisfied: pyparsing>=3.0.0 in /home/yardengoraly/.local/lib/python3.10/site-packages (from dm_control) (3.2.1)\n",
            "Requirement already satisfied: requests in /usr/lib/python3/dist-packages (from dm_control) (2.25.1)\n",
            "Requirement already satisfied: scipy in /usr/lib/python3/dist-packages (from dm_control) (1.8.0)\n",
            "Requirement already satisfied: dm-env in /home/yardengoraly/.local/lib/python3.10/site-packages (from dm_control) (1.6)\n",
            "Requirement already satisfied: etils[epath] in /home/yardengoraly/.local/lib/python3.10/site-packages (from mujoco>=3.2.7->dm_control) (1.12.2)\n",
            "Requirement already satisfied: zipp in /usr/lib/python3/dist-packages (from etils[epath]->mujoco>=3.2.7->dm_control) (1.0.0)\n",
            "Requirement already satisfied: fsspec in /home/yardengoraly/.local/lib/python3.10/site-packages (from etils[epath]->mujoco>=3.2.7->dm_control) (2023.10.0)\n",
            "Requirement already satisfied: typing_extensions in /home/yardengoraly/.local/lib/python3.10/site-packages (from etils[epath]->mujoco>=3.2.7->dm_control) (4.8.0)\n",
            "Requirement already satisfied: importlib_resources in /home/yardengoraly/.local/lib/python3.10/site-packages (from etils[epath]->mujoco>=3.2.7->dm_control) (6.5.2)\n",
            "Note: you may need to restart the kernel to use updated packages.\n"
          ]
        }
      ],
      "source": [
        "%pip install robot_descriptions\n",
        "%pip install dm_control\n",
        "\n",
        "from robot_descriptions import panda_mj_description\n"
      ]
    },
    {
      "cell_type": "code",
      "execution_count": 7,
      "metadata": {
        "colab": {
          "base_uri": "https://localhost:8080/",
          "height": 382
        },
        "id": "3sJCJmr8reg0",
        "outputId": "adb42c8e-8155-4ffd-cb18-0624db5f339a"
      },
      "outputs": [
        {
          "name": "stderr",
          "output_type": "stream",
          "text": [
            "100%|██████████| 1485.0/1485.0 [27:03<00:00,  1.09s/it] \n"
          ]
        },
        {
          "ename": "ValueError",
          "evalue": "Compile error raised by Mujoco; run again with --pymjcf_debug for additional debug information.\nError: keyframe 0: invalid qpos size, expected length 23\nElement name 'sawyer/home', id 0",
          "output_type": "error",
          "traceback": [
            "\u001b[0;31m---------------------------------------------------------------------------\u001b[0m",
            "\u001b[0;31mValueError\u001b[0m                                Traceback (most recent call last)",
            "File \u001b[0;32m~/.local/lib/python3.10/site-packages/dm_control/mjcf/physics.py:461\u001b[0m, in \u001b[0;36mPhysics.from_mjcf_model\u001b[0;34m(cls, mjcf_model)\u001b[0m\n\u001b[1;32m    460\u001b[0m \u001b[38;5;28;01mtry\u001b[39;00m:\n\u001b[0;32m--> 461\u001b[0m   \u001b[38;5;28;01mreturn\u001b[39;00m \u001b[38;5;28;43mcls\u001b[39;49m\u001b[38;5;241;43m.\u001b[39;49m\u001b[43mfrom_xml_string\u001b[49m\u001b[43m(\u001b[49m\u001b[43mxml_string\u001b[49m\u001b[38;5;241;43m=\u001b[39;49m\u001b[43mxml_string\u001b[49m\u001b[43m,\u001b[49m\u001b[43m \u001b[49m\u001b[43massets\u001b[49m\u001b[38;5;241;43m=\u001b[39;49m\u001b[43massets\u001b[49m\u001b[43m)\u001b[49m\n\u001b[1;32m    462\u001b[0m \u001b[38;5;28;01mexcept\u001b[39;00m \u001b[38;5;167;01mValueError\u001b[39;00m:\n",
            "File \u001b[0;32m~/.local/lib/python3.10/site-packages/dm_control/mujoco/engine.py:443\u001b[0m, in \u001b[0;36mPhysics.from_xml_string\u001b[0;34m(cls, xml_string, assets)\u001b[0m\n\u001b[1;32m    431\u001b[0m \u001b[38;5;124;03m\"\"\"A named constructor from a string containing an MJCF XML file.\u001b[39;00m\n\u001b[1;32m    432\u001b[0m \n\u001b[1;32m    433\u001b[0m \u001b[38;5;124;03mArgs:\u001b[39;00m\n\u001b[0;32m   (...)\u001b[0m\n\u001b[1;32m    441\u001b[0m \u001b[38;5;124;03m  A new `Physics` instance.\u001b[39;00m\n\u001b[1;32m    442\u001b[0m \u001b[38;5;124;03m\"\"\"\u001b[39;00m\n\u001b[0;32m--> 443\u001b[0m model \u001b[38;5;241m=\u001b[39m \u001b[43mwrapper\u001b[49m\u001b[38;5;241;43m.\u001b[39;49m\u001b[43mMjModel\u001b[49m\u001b[38;5;241;43m.\u001b[39;49m\u001b[43mfrom_xml_string\u001b[49m\u001b[43m(\u001b[49m\u001b[43mxml_string\u001b[49m\u001b[43m,\u001b[49m\u001b[43m \u001b[49m\u001b[43massets\u001b[49m\u001b[38;5;241;43m=\u001b[39;49m\u001b[43massets\u001b[49m\u001b[43m)\u001b[49m\n\u001b[1;32m    444\u001b[0m \u001b[38;5;28;01mreturn\u001b[39;00m \u001b[38;5;28mcls\u001b[39m\u001b[38;5;241m.\u001b[39mfrom_model(model)\n",
            "File \u001b[0;32m~/.local/lib/python3.10/site-packages/dm_control/mujoco/wrapper/core.py:294\u001b[0m, in \u001b[0;36mMjModel.from_xml_string\u001b[0;34m(cls, xml_string, assets)\u001b[0m\n\u001b[1;32m    282\u001b[0m \u001b[38;5;124;03m\"\"\"Creates an `MjModel` instance from a model description XML string.\u001b[39;00m\n\u001b[1;32m    283\u001b[0m \n\u001b[1;32m    284\u001b[0m \u001b[38;5;124;03mArgs:\u001b[39;00m\n\u001b[0;32m   (...)\u001b[0m\n\u001b[1;32m    292\u001b[0m \u001b[38;5;124;03m  An `MjModel` instance.\u001b[39;00m\n\u001b[1;32m    293\u001b[0m \u001b[38;5;124;03m\"\"\"\u001b[39;00m\n\u001b[0;32m--> 294\u001b[0m model_ptr \u001b[38;5;241m=\u001b[39m \u001b[43m_get_model_ptr_from_xml\u001b[49m\u001b[43m(\u001b[49m\u001b[43mxml_string\u001b[49m\u001b[38;5;241;43m=\u001b[39;49m\u001b[43mxml_string\u001b[49m\u001b[43m,\u001b[49m\u001b[43m \u001b[49m\u001b[43massets\u001b[49m\u001b[38;5;241;43m=\u001b[39;49m\u001b[43massets\u001b[49m\u001b[43m)\u001b[49m\n\u001b[1;32m    295\u001b[0m \u001b[38;5;28;01mreturn\u001b[39;00m \u001b[38;5;28mcls\u001b[39m(model_ptr)\n",
            "File \u001b[0;32m~/.local/lib/python3.10/site-packages/dm_control/mujoco/wrapper/core.py:179\u001b[0m, in \u001b[0;36m_get_model_ptr_from_xml\u001b[0;34m(xml_path, xml_string, assets)\u001b[0m\n\u001b[1;32m    178\u001b[0m \u001b[38;5;28;01mif\u001b[39;00m xml_string \u001b[38;5;129;01mis\u001b[39;00m \u001b[38;5;129;01mnot\u001b[39;00m \u001b[38;5;28;01mNone\u001b[39;00m:\n\u001b[0;32m--> 179\u001b[0m   ptr \u001b[38;5;241m=\u001b[39m \u001b[43mmujoco\u001b[49m\u001b[38;5;241;43m.\u001b[39;49m\u001b[43mMjModel\u001b[49m\u001b[38;5;241;43m.\u001b[39;49m\u001b[43mfrom_xml_string\u001b[49m\u001b[43m(\u001b[49m\u001b[43mxml_string\u001b[49m\u001b[43m,\u001b[49m\u001b[43m \u001b[49m\u001b[43massets\u001b[49m\u001b[43m \u001b[49m\u001b[38;5;129;43;01mor\u001b[39;49;00m\u001b[43m \u001b[49m\u001b[43m{\u001b[49m\u001b[43m}\u001b[49m\u001b[43m)\u001b[49m\n\u001b[1;32m    180\u001b[0m \u001b[38;5;28;01melse\u001b[39;00m:\n",
            "\u001b[0;31mValueError\u001b[0m: Error: keyframe 0: invalid qpos size, expected length 23\nElement name 'sawyer/home', id 0",
            "\nDuring handling of the above exception, another exception occurred:\n",
            "\u001b[0;31mValueError\u001b[0m                                Traceback (most recent call last)",
            "Cell \u001b[0;32mIn[7], line 35\u001b[0m\n\u001b[1;32m     32\u001b[0m arena\u001b[38;5;241m.\u001b[39mattach(sawyer_model)\n\u001b[1;32m     34\u001b[0m \u001b[38;5;66;03m# Load model.\u001b[39;00m\n\u001b[0;32m---> 35\u001b[0m physics \u001b[38;5;241m=\u001b[39m \u001b[43mmjcf\u001b[49m\u001b[38;5;241;43m.\u001b[39;49m\u001b[43mPhysics\u001b[49m\u001b[38;5;241;43m.\u001b[39;49m\u001b[43mfrom_mjcf_model\u001b[49m\u001b[43m(\u001b[49m\u001b[43marena\u001b[49m\u001b[43m)\u001b[49m\n\u001b[1;32m     37\u001b[0m \u001b[38;5;66;03m# renderer = mj.Renderer(arena, height=480, width=640)\u001b[39;00m\n\u001b[1;32m     38\u001b[0m PIL\u001b[38;5;241m.\u001b[39mImage\u001b[38;5;241m.\u001b[39mfromarray(physics\u001b[38;5;241m.\u001b[39mrender())\n",
            "File \u001b[0;32m~/.local/lib/python3.10/site-packages/dm_control/mjcf/physics.py:463\u001b[0m, in \u001b[0;36mPhysics.from_mjcf_model\u001b[0;34m(cls, mjcf_model)\u001b[0m\n\u001b[1;32m    461\u001b[0m   \u001b[38;5;28;01mreturn\u001b[39;00m \u001b[38;5;28mcls\u001b[39m\u001b[38;5;241m.\u001b[39mfrom_xml_string(xml_string\u001b[38;5;241m=\u001b[39mxml_string, assets\u001b[38;5;241m=\u001b[39massets)\n\u001b[1;32m    462\u001b[0m \u001b[38;5;28;01mexcept\u001b[39;00m \u001b[38;5;167;01mValueError\u001b[39;00m:\n\u001b[0;32m--> 463\u001b[0m   \u001b[43mdebug_context\u001b[49m\u001b[38;5;241;43m.\u001b[39;49m\u001b[43mprocess_and_raise_last_exception\u001b[49m\u001b[43m(\u001b[49m\u001b[43m)\u001b[49m\n",
            "File \u001b[0;32m~/.local/lib/python3.10/site-packages/dm_control/mjcf/debugging.py:263\u001b[0m, in \u001b[0;36mDebugContext.process_and_raise_last_exception\u001b[0;34m(self)\u001b[0m\n\u001b[1;32m    260\u001b[0m   \u001b[38;5;28;01mif\u001b[39;00m xml_line:\n\u001b[1;32m    261\u001b[0m     message_lines\u001b[38;5;241m.\u001b[39mappend(stripped_xml_line)\n\u001b[0;32m--> 263\u001b[0m \u001b[38;5;28;01mraise\u001b[39;00m err_type(\u001b[38;5;124m'\u001b[39m\u001b[38;5;130;01m\\n\u001b[39;00m\u001b[38;5;124m'\u001b[39m\u001b[38;5;241m.\u001b[39mjoin(message_lines))\u001b[38;5;241m.\u001b[39mwith_traceback(tb)\n",
            "File \u001b[0;32m~/.local/lib/python3.10/site-packages/dm_control/mjcf/physics.py:461\u001b[0m, in \u001b[0;36mPhysics.from_mjcf_model\u001b[0;34m(cls, mjcf_model)\u001b[0m\n\u001b[1;32m    459\u001b[0m assets \u001b[38;5;241m=\u001b[39m mjcf_model\u001b[38;5;241m.\u001b[39mget_assets()\n\u001b[1;32m    460\u001b[0m \u001b[38;5;28;01mtry\u001b[39;00m:\n\u001b[0;32m--> 461\u001b[0m   \u001b[38;5;28;01mreturn\u001b[39;00m \u001b[38;5;28;43mcls\u001b[39;49m\u001b[38;5;241;43m.\u001b[39;49m\u001b[43mfrom_xml_string\u001b[49m\u001b[43m(\u001b[49m\u001b[43mxml_string\u001b[49m\u001b[38;5;241;43m=\u001b[39;49m\u001b[43mxml_string\u001b[49m\u001b[43m,\u001b[49m\u001b[43m \u001b[49m\u001b[43massets\u001b[49m\u001b[38;5;241;43m=\u001b[39;49m\u001b[43massets\u001b[49m\u001b[43m)\u001b[49m\n\u001b[1;32m    462\u001b[0m \u001b[38;5;28;01mexcept\u001b[39;00m \u001b[38;5;167;01mValueError\u001b[39;00m:\n\u001b[1;32m    463\u001b[0m   debug_context\u001b[38;5;241m.\u001b[39mprocess_and_raise_last_exception()\n",
            "File \u001b[0;32m~/.local/lib/python3.10/site-packages/dm_control/mujoco/engine.py:443\u001b[0m, in \u001b[0;36mPhysics.from_xml_string\u001b[0;34m(cls, xml_string, assets)\u001b[0m\n\u001b[1;32m    429\u001b[0m \u001b[38;5;129m@classmethod\u001b[39m\n\u001b[1;32m    430\u001b[0m \u001b[38;5;28;01mdef\u001b[39;00m \u001b[38;5;21mfrom_xml_string\u001b[39m(\u001b[38;5;28mcls\u001b[39m, xml_string, assets\u001b[38;5;241m=\u001b[39m\u001b[38;5;28;01mNone\u001b[39;00m):\n\u001b[1;32m    431\u001b[0m   \u001b[38;5;124;03m\"\"\"A named constructor from a string containing an MJCF XML file.\u001b[39;00m\n\u001b[1;32m    432\u001b[0m \n\u001b[1;32m    433\u001b[0m \u001b[38;5;124;03m  Args:\u001b[39;00m\n\u001b[0;32m   (...)\u001b[0m\n\u001b[1;32m    441\u001b[0m \u001b[38;5;124;03m    A new `Physics` instance.\u001b[39;00m\n\u001b[1;32m    442\u001b[0m \u001b[38;5;124;03m  \"\"\"\u001b[39;00m\n\u001b[0;32m--> 443\u001b[0m   model \u001b[38;5;241m=\u001b[39m \u001b[43mwrapper\u001b[49m\u001b[38;5;241;43m.\u001b[39;49m\u001b[43mMjModel\u001b[49m\u001b[38;5;241;43m.\u001b[39;49m\u001b[43mfrom_xml_string\u001b[49m\u001b[43m(\u001b[49m\u001b[43mxml_string\u001b[49m\u001b[43m,\u001b[49m\u001b[43m \u001b[49m\u001b[43massets\u001b[49m\u001b[38;5;241;43m=\u001b[39;49m\u001b[43massets\u001b[49m\u001b[43m)\u001b[49m\n\u001b[1;32m    444\u001b[0m   \u001b[38;5;28;01mreturn\u001b[39;00m \u001b[38;5;28mcls\u001b[39m\u001b[38;5;241m.\u001b[39mfrom_model(model)\n",
            "File \u001b[0;32m~/.local/lib/python3.10/site-packages/dm_control/mujoco/wrapper/core.py:294\u001b[0m, in \u001b[0;36mMjModel.from_xml_string\u001b[0;34m(cls, xml_string, assets)\u001b[0m\n\u001b[1;32m    280\u001b[0m \u001b[38;5;129m@classmethod\u001b[39m\n\u001b[1;32m    281\u001b[0m \u001b[38;5;28;01mdef\u001b[39;00m \u001b[38;5;21mfrom_xml_string\u001b[39m(\u001b[38;5;28mcls\u001b[39m, xml_string, assets\u001b[38;5;241m=\u001b[39m\u001b[38;5;28;01mNone\u001b[39;00m):\n\u001b[1;32m    282\u001b[0m   \u001b[38;5;124;03m\"\"\"Creates an `MjModel` instance from a model description XML string.\u001b[39;00m\n\u001b[1;32m    283\u001b[0m \n\u001b[1;32m    284\u001b[0m \u001b[38;5;124;03m  Args:\u001b[39;00m\n\u001b[0;32m   (...)\u001b[0m\n\u001b[1;32m    292\u001b[0m \u001b[38;5;124;03m    An `MjModel` instance.\u001b[39;00m\n\u001b[1;32m    293\u001b[0m \u001b[38;5;124;03m  \"\"\"\u001b[39;00m\n\u001b[0;32m--> 294\u001b[0m   model_ptr \u001b[38;5;241m=\u001b[39m \u001b[43m_get_model_ptr_from_xml\u001b[49m\u001b[43m(\u001b[49m\u001b[43mxml_string\u001b[49m\u001b[38;5;241;43m=\u001b[39;49m\u001b[43mxml_string\u001b[49m\u001b[43m,\u001b[49m\u001b[43m \u001b[49m\u001b[43massets\u001b[49m\u001b[38;5;241;43m=\u001b[39;49m\u001b[43massets\u001b[49m\u001b[43m)\u001b[49m\n\u001b[1;32m    295\u001b[0m   \u001b[38;5;28;01mreturn\u001b[39;00m \u001b[38;5;28mcls\u001b[39m(model_ptr)\n",
            "File \u001b[0;32m~/.local/lib/python3.10/site-packages/dm_control/mujoco/wrapper/core.py:179\u001b[0m, in \u001b[0;36m_get_model_ptr_from_xml\u001b[0;34m(xml_path, xml_string, assets)\u001b[0m\n\u001b[1;32m    175\u001b[0m   \u001b[38;5;28;01mraise\u001b[39;00m \u001b[38;5;167;01mTypeError\u001b[39;00m(\n\u001b[1;32m    176\u001b[0m       \u001b[38;5;124m\"\u001b[39m\u001b[38;5;124mOnly one of `xml_path` or `xml_string` may be specified.\u001b[39m\u001b[38;5;124m\"\u001b[39m)\n\u001b[1;32m    178\u001b[0m \u001b[38;5;28;01mif\u001b[39;00m xml_string \u001b[38;5;129;01mis\u001b[39;00m \u001b[38;5;129;01mnot\u001b[39;00m \u001b[38;5;28;01mNone\u001b[39;00m:\n\u001b[0;32m--> 179\u001b[0m   ptr \u001b[38;5;241m=\u001b[39m \u001b[43mmujoco\u001b[49m\u001b[38;5;241;43m.\u001b[39;49m\u001b[43mMjModel\u001b[49m\u001b[38;5;241;43m.\u001b[39;49m\u001b[43mfrom_xml_string\u001b[49m\u001b[43m(\u001b[49m\u001b[43mxml_string\u001b[49m\u001b[43m,\u001b[49m\u001b[43m \u001b[49m\u001b[43massets\u001b[49m\u001b[43m \u001b[49m\u001b[38;5;129;43;01mor\u001b[39;49;00m\u001b[43m \u001b[49m\u001b[43m{\u001b[49m\u001b[43m}\u001b[49m\u001b[43m)\u001b[49m\n\u001b[1;32m    180\u001b[0m \u001b[38;5;28;01melse\u001b[39;00m:\n\u001b[1;32m    181\u001b[0m   ptr \u001b[38;5;241m=\u001b[39m mujoco\u001b[38;5;241m.\u001b[39mMjModel\u001b[38;5;241m.\u001b[39mfrom_xml_path(xml_path, assets \u001b[38;5;129;01mor\u001b[39;00m {})\n",
            "\u001b[0;31mValueError\u001b[0m: Compile error raised by Mujoco; run again with --pymjcf_debug for additional debug information.\nError: keyframe 0: invalid qpos size, expected length 23\nElement name 'sawyer/home', id 0"
          ]
        }
      ],
      "source": [
        "from robot_descriptions.loaders.mujoco import load_robot_description\n",
        "from dm_control import mjcf\n",
        "import PIL.Image\n",
        "\n",
        "ball_xml = \"\"\"\n",
        "<mujoco model=\"ball\">\n",
        "    <worldbody>\n",
        "        <body name=\"ball\" pos=\"0.2 0.0 0.1\">\n",
        "            <geom type=\"sphere\" size=\"0.05\" rgba=\"1 0 0 1\"/>\n",
        "        </body>\n",
        "    </worldbody>\n",
        "</mujoco>\n",
        "\"\"\"\n",
        "\n",
        "hand_path = \"mujoco_menagerie/wonik_allegro/right_hand.xml\"\n",
        "sawyer_path = \"mujoco_menagerie/rethink_robotics_sawyer/sawyer.xml\"\n",
        "\n",
        "hand_model = mjcf.from_path(hand_path)\n",
        "sawyer_model = mjcf.from_path(sawyer_path)\n",
        "ball_model = mjcf.from_xml_string(ball_xml)\n",
        "\n",
        "arena = mjcf.RootElement()\n",
        "chequered = arena.asset.add('texture', type='2d', builtin='checker', width=300,\n",
        "                            height=300, rgb1=[.2, .3, .4], rgb2=[.3, .4, .5])\n",
        "grid = arena.asset.add('material', name='grid', texture=chequered,\n",
        "                       texrepeat=[5, 5], reflectance=.2)\n",
        "arena.worldbody.add('geom', type='plane', size=[2, 2, .1], material=grid)\n",
        "for x in [-2, 2]:\n",
        "  arena.worldbody.add('light', pos=[x, -1, 3], dir=[-x, 1, -2])\n",
        "arena.attach(hand_model)\n",
        "arena.attach(ball_model)\n",
        "arena.attach(sawyer_model)\n",
        "\n",
        "# Load model.\n",
        "physics = mjcf.Physics.from_mjcf_model(arena)\n",
        "\n",
        "# renderer = mj.Renderer(arena, height=480, width=640)\n",
        "PIL.Image.fromarray(physics.render())"
      ]
    },
    {
      "cell_type": "code",
      "execution_count": null,
      "metadata": {
        "id": "qzwDVx2lykmN"
      },
      "outputs": [],
      "source": []
    }
  ],
  "metadata": {
    "accelerator": "GPU",
    "colab": {
      "authorship_tag": "ABX9TyMc1tP7a7zmaLWqRdpbiSbm",
      "gpuType": "T4",
      "include_colab_link": true,
      "provenance": []
    },
    "kernelspec": {
      "display_name": "Python 3",
      "name": "python3"
    },
    "language_info": {
      "codemirror_mode": {
        "name": "ipython",
        "version": 3
      },
      "file_extension": ".py",
      "mimetype": "text/x-python",
      "name": "python",
      "nbconvert_exporter": "python",
      "pygments_lexer": "ipython3",
      "version": "3.10.12"
    }
  },
  "nbformat": 4,
  "nbformat_minor": 0
}
